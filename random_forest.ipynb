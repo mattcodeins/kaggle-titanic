{
 "cells": [
  {
   "cell_type": "code",
   "execution_count": 2,
   "metadata": {},
   "outputs": [],
   "source": [
    "import pandas as pd\n",
    "import numpy as np\n",
    "from preprocessing import *\n",
    "from utils import *\n",
    "from sklearn.ensemble import RandomForestClassifier\n",
    "random_seed = 96\n",
    "np.random.seed(random_seed)"
   ]
  },
  {
   "cell_type": "code",
   "execution_count": 42,
   "metadata": {},
   "outputs": [],
   "source": [
    "def test_stats(y, pred):\n",
    "    accuracy = accuracy_score(y, pred)\n",
    "    print(\"Accuracy:\", accuracy)\n",
    "    cf = confusion_matrix(y, pred)\n",
    "    print(\"Confusion Matrix:\\n\", cf)\n",
    "    f1 = f1_score(y, pred)\n",
    "    print(\"F1 Score:\", f1)"
   ]
  },
  {
   "cell_type": "code",
   "execution_count": 39,
   "metadata": {},
   "outputs": [],
   "source": [
    "data = pd.read_csv('data/train_processed.csv')\n",
    "train, test = train_test_split(data, test_size=0.1, random_state=random_seed)\n",
    "trainx, trainy = create_xy(train)\n",
    "testx, testy = create_xy(test)"
   ]
  },
  {
   "cell_type": "code",
   "execution_count": 40,
   "metadata": {},
   "outputs": [
    {
     "data": {
      "text/html": [
       "<div>\n",
       "<style scoped>\n",
       "    .dataframe tbody tr th:only-of-type {\n",
       "        vertical-align: middle;\n",
       "    }\n",
       "\n",
       "    .dataframe tbody tr th {\n",
       "        vertical-align: top;\n",
       "    }\n",
       "\n",
       "    .dataframe thead th {\n",
       "        text-align: right;\n",
       "    }\n",
       "</style>\n",
       "<table border=\"1\" class=\"dataframe\">\n",
       "  <thead>\n",
       "    <tr style=\"text-align: right;\">\n",
       "      <th></th>\n",
       "      <th>mean_test_score</th>\n",
       "      <th>std_test_score</th>\n",
       "      <th>params</th>\n",
       "      <th>rank_test_score</th>\n",
       "    </tr>\n",
       "  </thead>\n",
       "  <tbody>\n",
       "    <tr>\n",
       "      <th>0</th>\n",
       "      <td>0.827748</td>\n",
       "      <td>0.037446</td>\n",
       "      <td>{'max_depth': 5, 'n_estimators': 100}</td>\n",
       "      <td>1</td>\n",
       "    </tr>\n",
       "    <tr>\n",
       "      <th>1</th>\n",
       "      <td>0.825248</td>\n",
       "      <td>0.026874</td>\n",
       "      <td>{'max_depth': 5, 'n_estimators': 200}</td>\n",
       "      <td>2</td>\n",
       "    </tr>\n",
       "    <tr>\n",
       "      <th>2</th>\n",
       "      <td>0.822741</td>\n",
       "      <td>0.019004</td>\n",
       "      <td>{'max_depth': 10, 'n_estimators': 100}</td>\n",
       "      <td>3</td>\n",
       "    </tr>\n",
       "    <tr>\n",
       "      <th>4</th>\n",
       "      <td>0.816514</td>\n",
       "      <td>0.027570</td>\n",
       "      <td>{'max_depth': None, 'n_estimators': 100}</td>\n",
       "      <td>4</td>\n",
       "    </tr>\n",
       "    <tr>\n",
       "      <th>5</th>\n",
       "      <td>0.816514</td>\n",
       "      <td>0.022585</td>\n",
       "      <td>{'max_depth': None, 'n_estimators': 200}</td>\n",
       "      <td>4</td>\n",
       "    </tr>\n",
       "    <tr>\n",
       "      <th>3</th>\n",
       "      <td>0.811530</td>\n",
       "      <td>0.027135</td>\n",
       "      <td>{'max_depth': 10, 'n_estimators': 200}</td>\n",
       "      <td>6</td>\n",
       "    </tr>\n",
       "  </tbody>\n",
       "</table>\n",
       "</div>"
      ],
      "text/plain": [
       "   mean_test_score  std_test_score                                    params  \\\n",
       "0         0.827748        0.037446     {'max_depth': 5, 'n_estimators': 100}   \n",
       "1         0.825248        0.026874     {'max_depth': 5, 'n_estimators': 200}   \n",
       "2         0.822741        0.019004    {'max_depth': 10, 'n_estimators': 100}   \n",
       "4         0.816514        0.027570  {'max_depth': None, 'n_estimators': 100}   \n",
       "5         0.816514        0.022585  {'max_depth': None, 'n_estimators': 200}   \n",
       "3         0.811530        0.027135    {'max_depth': 10, 'n_estimators': 200}   \n",
       "\n",
       "   rank_test_score  \n",
       "0                1  \n",
       "1                2  \n",
       "2                3  \n",
       "4                4  \n",
       "5                4  \n",
       "3                6  "
      ]
     },
     "execution_count": 40,
     "metadata": {},
     "output_type": "execute_result"
    }
   ],
   "source": [
    "parameters = {'n_estimators': [100, 200], 'max_depth': [5, 10, None]}\n",
    "clf = GridSearchCV(RandomForestClassifier(), parameters, cv=5)\n",
    "clf.fit(trainx, trainy)\n",
    "pd.DataFrame(clf.cv_results_)[['mean_test_score', 'std_test_score', 'params', 'rank_test_score']].sort_values(by='rank_test_score')"
   ]
  },
  {
   "cell_type": "code",
   "execution_count": 43,
   "metadata": {},
   "outputs": [
    {
     "name": "stdout",
     "output_type": "stream",
     "text": [
      "Training Results:\n",
      "Accuracy: 0.8601747815230961\n",
      "Confusion Matrix:\n",
      " [[437  44]\n",
      " [ 68 252]]\n",
      "F1 Score: 0.8181818181818182\n",
      "\n",
      "Testing Results:\n",
      "Accuracy: 0.8333333333333334\n",
      "Confusion Matrix:\n",
      " [[61  7]\n",
      " [ 8 14]]\n",
      "F1 Score: 0.6511627906976745\n"
     ]
    }
   ],
   "source": [
    "\n",
    "model = RandomForestClassifier(n_estimators=100, max_depth=5, random_state=random_seed)\n",
    "model.fit(trainx, trainy)\n",
    "print('Training Results:')\n",
    "train_pred = model.predict(trainx)\n",
    "test_stats(trainy, train_pred)\n",
    "print('\\nTesting Results:')\n",
    "test_pred = model.predict(testx)\n",
    "test_stats(testy, test_pred)"
   ]
  }
 ],
 "metadata": {
  "language_info": {
   "name": "python"
  }
 },
 "nbformat": 4,
 "nbformat_minor": 2
}
